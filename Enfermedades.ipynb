{
 "cells": [
  {
   "cell_type": "code",
   "execution_count": 46,
   "metadata": {},
   "outputs": [
    {
     "name": "stderr",
     "output_type": "stream",
     "text": [
      "C:\\Users\\cf\\AppData\\Local\\Temp\\ipykernel_19600\\3919212091.py:18: FutureWarning: The frame.append method is deprecated and will be removed from pandas in a future version. Use pandas.concat instead.\n",
      "  combined_df = combined_df.append(df, ignore_index=True)\n",
      "C:\\Users\\cf\\AppData\\Local\\Temp\\ipykernel_19600\\3919212091.py:18: FutureWarning: The frame.append method is deprecated and will be removed from pandas in a future version. Use pandas.concat instead.\n",
      "  combined_df = combined_df.append(df, ignore_index=True)\n",
      "C:\\Users\\cf\\AppData\\Local\\Temp\\ipykernel_19600\\3919212091.py:18: FutureWarning: The frame.append method is deprecated and will be removed from pandas in a future version. Use pandas.concat instead.\n",
      "  combined_df = combined_df.append(df, ignore_index=True)\n",
      "C:\\Users\\cf\\AppData\\Local\\Temp\\ipykernel_19600\\3919212091.py:18: FutureWarning: The frame.append method is deprecated and will be removed from pandas in a future version. Use pandas.concat instead.\n",
      "  combined_df = combined_df.append(df, ignore_index=True)\n",
      "C:\\Users\\cf\\AppData\\Local\\Temp\\ipykernel_19600\\3919212091.py:18: FutureWarning: The frame.append method is deprecated and will be removed from pandas in a future version. Use pandas.concat instead.\n",
      "  combined_df = combined_df.append(df, ignore_index=True)\n"
     ]
    }
   ],
   "source": [
    "import pandas as pd\n",
    "\n",
    "# Lista de nombres de tus archivos CSV\n",
    "archivos = [\"Sifilis.csv\", \"Cancermamario.csv\", \"Diabetes.csv\", \"Hipertension.csv\", \"Tuberculosis.csv\"]\n",
    "\n",
    "# Inicializar un DataFrame vacío para combinar los datos\n",
    "combined_df = pd.DataFrame(columns=[\"Estado\", \"Año\", \"Enfermedad\", \"Casos\"])\n",
    "\n",
    "# Leer y combinar los datos de los archivos CSV\n",
    "for archivo in archivos:\n",
    "    enfermedad = archivo.split(\".csv\")[0]  # Obtener el nombre de la enfermedad desde el nombre del archivo\n",
    "    df = pd.read_csv(archivo, encoding='utf-8')\n",
    "    df = df.melt(id_vars=[\"Delegacion\"], var_name=\"Año\", value_name=\"Casos\")\n",
    "    df[\"Enfermedad\"] = enfermedad\n",
    "    df[\"Delegacion\"] = df[\"Delegacion\"].str.strip()\n",
    "\n",
    "\n",
    "    combined_df = combined_df.append(df, ignore_index=True)\n",
    "\n",
    "combined_df.drop(columns=[\"Estado\"], inplace=True)\n",
    "\n",
    "\n",
    "# Guardar los datos combinados en un nuevo archivo CSV\n",
    "combined_df.to_csv(\"enfermedades_combinadas.csv\", index=False, encoding='utf-8')\n",
    "combined_df.to_excel(\"enfermedades_combinadas.xlsx\", index=False, engine='openpyxl')\n",
    "\n"
   ]
  },
  {
   "cell_type": "code",
   "execution_count": 47,
   "metadata": {},
   "outputs": [
    {
     "data": {
      "text/plain": [
       "Delegacion      Enfermedad   \n",
       "Aguascalientes  Cancermamario     81917.956522\n",
       "                Diabetes         139785.652174\n",
       "                Hipertension     155289.826087\n",
       "                Sifilis            5048.043478\n",
       "                Tuberculosis      11846.565217\n",
       "                                     ...      \n",
       "Zacatecas       Cancermamario     52534.739130\n",
       "                Diabetes         106996.434783\n",
       "                Hipertension     123985.956522\n",
       "                Sifilis            3762.347826\n",
       "                Tuberculosis       6858.695652\n",
       "Name: Casos, Length: 160, dtype: float64"
      ]
     },
     "execution_count": 47,
     "metadata": {},
     "output_type": "execute_result"
    }
   ],
   "source": [
    "combined_df.groupby(['Delegacion', 'Enfermedad'])['Casos'].mean()\n",
    "\n"
   ]
  },
  {
   "cell_type": "code",
   "execution_count": 27,
   "metadata": {},
   "outputs": [
    {
     "data": {
      "text/plain": [
       "array(['Aguascalientes', 'Baja California', 'Baja California Sur',\n",
       "       'Campeche', 'Coahuila', 'Colima', 'Chiapas', 'Chihuahua',\n",
       "       'Distrito Federal', 'Durango', 'Guanajuato', 'Guerrero', 'Hidalgo',\n",
       "       'Jalisco', 'México', 'Michoacán', 'Morelos', 'Nayarit',\n",
       "       'Nuevo León', 'Oaxaca', 'Puebla', 'Querétaro', 'Quintana Roo',\n",
       "       'San Luis Potosí', 'Sinaloa', 'Sonora', 'Tabasco', 'Tamaulipas',\n",
       "       'Tlaxcala', 'Veracruz', 'Yucatán', 'Zacatecas', 'Total'],\n",
       "      dtype=object)"
      ]
     },
     "execution_count": 27,
     "metadata": {},
     "output_type": "execute_result"
    }
   ],
   "source": [
    "combined_df['Delegacion'].unique()"
   ]
  },
  {
   "cell_type": "code",
   "execution_count": null,
   "metadata": {},
   "outputs": [],
   "source": []
  }
 ],
 "metadata": {
  "kernelspec": {
   "display_name": "Python 3 (ipykernel)",
   "language": "python",
   "name": "python3"
  },
  "language_info": {
   "codemirror_mode": {
    "name": "ipython",
    "version": 3
   },
   "file_extension": ".py",
   "mimetype": "text/x-python",
   "name": "python",
   "nbconvert_exporter": "python",
   "pygments_lexer": "ipython3",
   "version": "3.9.12"
  }
 },
 "nbformat": 4,
 "nbformat_minor": 4
}
