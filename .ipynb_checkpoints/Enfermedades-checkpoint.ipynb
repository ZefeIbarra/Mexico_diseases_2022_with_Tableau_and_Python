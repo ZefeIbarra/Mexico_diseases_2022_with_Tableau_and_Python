{
 "cells": [
  {
   "cell_type": "code",
   "execution_count": null,
   "metadata": {},
   "outputs": [],
   "source": [
    "import pandas as pd\n",
    "\n",
    "# Lista de nombres de tus archivos CSV\n",
    "archivos = [\"Sifilis.csv\", \"Cancermamario.csv\", \"Diabetes.csv\", \"Hipertension.csv\", \"Tuberculosis.csv\"]\n",
    "\n",
    "# Inicializar un DataFrame vacío para combinar los datos\n",
    "combined_df = pd.DataFrame(columns=[\"Estado\", \"Año\", \"Enfermedad\", \"Recuento\"])\n",
    "\n",
    "# Leer y combinar los datos de los archivos CSV\n",
    "for archivo in archivos:\n",
    "    enfermedad = archivo.split(\".csv\")[0]  # Obtener el nombre de la enfermedad desde el nombre del archivo\n",
    "    df = pd.read_csv(archivo)\n",
    "    df = df.melt(id_vars=[\"Delegacion\"], var_name=\"Año\", value_name=\"Recuento\")\n",
    "    df[\"Enfermedad\"] = enfermedad\n",
    "    combined_df = combined_df.append(df, ignore_index=True)\n",
    "\n",
    "# Guardar los datos combinados en un nuevo archivo CSV\n",
    "combined_df.to_csv(\"enfermedades_combinadas.csv\", index=False)\n"
   ]
  }
 ],
 "metadata": {
  "language_info": {
   "name": "python"
  },
  "orig_nbformat": 4
 },
 "nbformat": 4,
 "nbformat_minor": 2
}
